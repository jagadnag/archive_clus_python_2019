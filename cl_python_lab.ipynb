{
 "cells": [
  {
   "cell_type": "markdown",
   "metadata": {},
   "source": [
    "# LABRST-2678 Programming for Network Engineers\n",
    "\n",
    "## Lab Tasks\n",
    "\n",
    "### Task 1: Building blocks of Netmiko python script\n",
    "\n",
    "In this lab exercise you will learn how a basic netmiko python script is constructed. Think of it like a Lego block, first we will start with basic building blocks and quickly iterate through it to build complex programming logics. \n",
    "\n",
    "Let’s dive into the basic building blocks.\n",
    "\n",
    "First we have to import the Netmiko connection libraries\n",
    "```python\n",
    "from netmiko import Netmiko\n",
    "```\n",
    "The connection parameters are collected in a Python dictionary. The connection parameters provide Netmiko with everything it needs to create the SSH connection. In the below example we have shown how to connect to a IOS device, if it is a NXOS device, simply change the device type to 'device_type': 'cisco_nxos'.\n",
    "\n",
    "```python\n",
    "ios1 = {\n",
    "    'device_type': 'cisco_ios',\n",
    "    'ip': '192.18.1.55',\n",
    "    'username': 'cisco',\n",
    "    'password': 'cisco',\n",
    "}\n",
    "```\n",
    "Netmiko is a function that calls the necessary connection parameters and device type (cisco_ios, cisco_xr, cisco_nxos, etc.) Once connection parameters are loaded, the script will launch a SSH connection to login into the device.\n",
    "\n",
    "```python\n",
    "net_connect = Netmiko(**ios1)\n",
    "```\n",
    ".send_command() method is used to send show commands over the channel and receive the output back. Here, we are reading the output of ‘show version’ command and storing it in a variable named 'output'.\n",
    "\n",
    "```python\n",
    "output = net_connect.send_command('show version’)\n",
    "```\n",
    "Using the .send_config_set() method, we can program the network device to enter into configuration mode and make configuration changes. After executing the config_commands the script will exit the configuration mode.\n",
    "\n",
    "```python\n",
    "output = net_connect.send_config_set(config_commands)\n",
    "```\n",
    "\n",
    "We can send either only one command or multiple lines of commands by converting it into a simple list. If we are sending a big configuration, it is recommended to use the .send_config_from_file() method. \n",
    "\n",
    "```python\n",
    "output = net_connect.send_config_from_file('more_config')\n",
    "```\n",
    "\n",
    "All of the session output is stored in an output variable and then printed out in the screen for our reference. \n",
    "\n",
    "For more information on the all the connection methods avaialvle with Netmiko, pls refer the documentation\n",
    "\n",
    "__[Netmiko Introduction](https://pynet.twb-tech.com/blog/automation/netmiko.html)__\n",
    "\n",
    "__[Netmiko Documentation](https://netmiko.readthedocs.io/en/latest/classes/base_connection.html)__\n"
   ]
  },
  {
   "attachments": {},
   "cell_type": "markdown",
   "metadata": {},
   "source": [
    "### Task 2: Executing a show command on a network device\n",
    "\n",
    "The python script will\n",
    "- login to the iosv-1 device via SSH\n",
    "- run the show version command\n",
    "- capture the output\n",
    "- print the command output to the screen."
   ]
  },
  {
   "cell_type": "code",
   "execution_count": 1,
   "metadata": {},
   "outputs": [
    {
     "ename": "NetMikoTimeoutException",
     "evalue": "Connection to device timed-out: cisco_ios 172.21.56.120:22",
     "output_type": "error",
     "traceback": [
      "\u001b[0;31m---------------------------------------------------------------------------\u001b[0m",
      "\u001b[0;31mOSError\u001b[0m                                   Traceback (most recent call last)",
      "\u001b[0;32m~/Desktop/projects/Environments/my_env/lib/python3.7/site-packages/netmiko/base_connection.py\u001b[0m in \u001b[0;36mestablish_connection\u001b[0;34m(self, width, height)\u001b[0m\n\u001b[1;32m    857\u001b[0m             \u001b[0;32mtry\u001b[0m\u001b[0;34m:\u001b[0m\u001b[0;34m\u001b[0m\u001b[0;34m\u001b[0m\u001b[0m\n\u001b[0;32m--> 858\u001b[0;31m                 \u001b[0mself\u001b[0m\u001b[0;34m.\u001b[0m\u001b[0mremote_conn_pre\u001b[0m\u001b[0;34m.\u001b[0m\u001b[0mconnect\u001b[0m\u001b[0;34m(\u001b[0m\u001b[0;34m**\u001b[0m\u001b[0mssh_connect_params\u001b[0m\u001b[0;34m)\u001b[0m\u001b[0;34m\u001b[0m\u001b[0;34m\u001b[0m\u001b[0m\n\u001b[0m\u001b[1;32m    859\u001b[0m             \u001b[0;32mexcept\u001b[0m \u001b[0msocket\u001b[0m\u001b[0;34m.\u001b[0m\u001b[0merror\u001b[0m\u001b[0;34m:\u001b[0m\u001b[0;34m\u001b[0m\u001b[0;34m\u001b[0m\u001b[0m\n",
      "\u001b[0;32m~/Desktop/projects/Environments/my_env/lib/python3.7/site-packages/paramiko/client.py\u001b[0m in \u001b[0;36mconnect\u001b[0;34m(self, hostname, port, username, password, pkey, key_filename, timeout, allow_agent, look_for_keys, compress, sock, gss_auth, gss_kex, gss_deleg_creds, gss_host, banner_timeout, auth_timeout, gss_trust_dns, passphrase)\u001b[0m\n\u001b[1;32m    342\u001b[0m                             \u001b[0;32mpass\u001b[0m\u001b[0;34m\u001b[0m\u001b[0;34m\u001b[0m\u001b[0m\n\u001b[0;32m--> 343\u001b[0;31m                     \u001b[0mretry_on_signal\u001b[0m\u001b[0;34m(\u001b[0m\u001b[0;32mlambda\u001b[0m\u001b[0;34m:\u001b[0m \u001b[0msock\u001b[0m\u001b[0;34m.\u001b[0m\u001b[0mconnect\u001b[0m\u001b[0;34m(\u001b[0m\u001b[0maddr\u001b[0m\u001b[0;34m)\u001b[0m\u001b[0;34m)\u001b[0m\u001b[0;34m\u001b[0m\u001b[0;34m\u001b[0m\u001b[0m\n\u001b[0m\u001b[1;32m    344\u001b[0m                     \u001b[0;31m# Break out of the loop on success\u001b[0m\u001b[0;34m\u001b[0m\u001b[0;34m\u001b[0m\u001b[0;34m\u001b[0m\u001b[0m\n",
      "\u001b[0;32m~/Desktop/projects/Environments/my_env/lib/python3.7/site-packages/paramiko/util.py\u001b[0m in \u001b[0;36mretry_on_signal\u001b[0;34m(function)\u001b[0m\n\u001b[1;32m    279\u001b[0m         \u001b[0;32mtry\u001b[0m\u001b[0;34m:\u001b[0m\u001b[0;34m\u001b[0m\u001b[0;34m\u001b[0m\u001b[0m\n\u001b[0;32m--> 280\u001b[0;31m             \u001b[0;32mreturn\u001b[0m \u001b[0mfunction\u001b[0m\u001b[0;34m(\u001b[0m\u001b[0;34m)\u001b[0m\u001b[0;34m\u001b[0m\u001b[0;34m\u001b[0m\u001b[0m\n\u001b[0m\u001b[1;32m    281\u001b[0m         \u001b[0;32mexcept\u001b[0m \u001b[0mEnvironmentError\u001b[0m \u001b[0;32mas\u001b[0m \u001b[0me\u001b[0m\u001b[0;34m:\u001b[0m\u001b[0;34m\u001b[0m\u001b[0;34m\u001b[0m\u001b[0m\n",
      "\u001b[0;32m~/Desktop/projects/Environments/my_env/lib/python3.7/site-packages/paramiko/client.py\u001b[0m in \u001b[0;36m<lambda>\u001b[0;34m()\u001b[0m\n\u001b[1;32m    342\u001b[0m                             \u001b[0;32mpass\u001b[0m\u001b[0;34m\u001b[0m\u001b[0;34m\u001b[0m\u001b[0m\n\u001b[0;32m--> 343\u001b[0;31m                     \u001b[0mretry_on_signal\u001b[0m\u001b[0;34m(\u001b[0m\u001b[0;32mlambda\u001b[0m\u001b[0;34m:\u001b[0m \u001b[0msock\u001b[0m\u001b[0;34m.\u001b[0m\u001b[0mconnect\u001b[0m\u001b[0;34m(\u001b[0m\u001b[0maddr\u001b[0m\u001b[0;34m)\u001b[0m\u001b[0;34m)\u001b[0m\u001b[0;34m\u001b[0m\u001b[0;34m\u001b[0m\u001b[0m\n\u001b[0m\u001b[1;32m    344\u001b[0m                     \u001b[0;31m# Break out of the loop on success\u001b[0m\u001b[0;34m\u001b[0m\u001b[0;34m\u001b[0m\u001b[0;34m\u001b[0m\u001b[0m\n",
      "\u001b[0;31mOSError\u001b[0m: [Errno 51] Network is unreachable",
      "\nDuring handling of the above exception, another exception occurred:\n",
      "\u001b[0;31mNetMikoTimeoutException\u001b[0m                   Traceback (most recent call last)",
      "\u001b[0;32m<ipython-input-1-406c54992c12>\u001b[0m in \u001b[0;36m<module>\u001b[0;34m\u001b[0m\n\u001b[1;32m     11\u001b[0m \u001b[0;34m\u001b[0m\u001b[0m\n\u001b[1;32m     12\u001b[0m \u001b[0;31m# Establish SSH to device and run show command\u001b[0m\u001b[0;34m\u001b[0m\u001b[0;34m\u001b[0m\u001b[0;34m\u001b[0m\u001b[0m\n\u001b[0;32m---> 13\u001b[0;31m \u001b[0mnet_connect\u001b[0m \u001b[0;34m=\u001b[0m \u001b[0mNetmiko\u001b[0m\u001b[0;34m(\u001b[0m\u001b[0;34m**\u001b[0m\u001b[0mios1\u001b[0m\u001b[0;34m)\u001b[0m\u001b[0;34m\u001b[0m\u001b[0;34m\u001b[0m\u001b[0m\n\u001b[0m\u001b[1;32m     14\u001b[0m \u001b[0moutput\u001b[0m \u001b[0;34m=\u001b[0m \u001b[0mnet_connect\u001b[0m\u001b[0;34m.\u001b[0m\u001b[0msend_command\u001b[0m\u001b[0;34m(\u001b[0m\u001b[0;34m'show version'\u001b[0m\u001b[0;34m)\u001b[0m\u001b[0;34m\u001b[0m\u001b[0;34m\u001b[0m\u001b[0m\n\u001b[1;32m     15\u001b[0m \u001b[0mprint\u001b[0m \u001b[0;34m(\u001b[0m\u001b[0moutput\u001b[0m\u001b[0;34m)\u001b[0m\u001b[0;34m\u001b[0m\u001b[0;34m\u001b[0m\u001b[0m\n",
      "\u001b[0;32m~/Desktop/projects/Environments/my_env/lib/python3.7/site-packages/netmiko/ssh_dispatcher.py\u001b[0m in \u001b[0;36mConnectHandler\u001b[0;34m(*args, **kwargs)\u001b[0m\n\u001b[1;32m    226\u001b[0m         )\n\u001b[1;32m    227\u001b[0m     \u001b[0mConnectionClass\u001b[0m \u001b[0;34m=\u001b[0m \u001b[0mssh_dispatcher\u001b[0m\u001b[0;34m(\u001b[0m\u001b[0mkwargs\u001b[0m\u001b[0;34m[\u001b[0m\u001b[0;34m\"device_type\"\u001b[0m\u001b[0;34m]\u001b[0m\u001b[0;34m)\u001b[0m\u001b[0;34m\u001b[0m\u001b[0;34m\u001b[0m\u001b[0m\n\u001b[0;32m--> 228\u001b[0;31m     \u001b[0;32mreturn\u001b[0m \u001b[0mConnectionClass\u001b[0m\u001b[0;34m(\u001b[0m\u001b[0;34m*\u001b[0m\u001b[0margs\u001b[0m\u001b[0;34m,\u001b[0m \u001b[0;34m**\u001b[0m\u001b[0mkwargs\u001b[0m\u001b[0;34m)\u001b[0m\u001b[0;34m\u001b[0m\u001b[0;34m\u001b[0m\u001b[0m\n\u001b[0m\u001b[1;32m    229\u001b[0m \u001b[0;34m\u001b[0m\u001b[0m\n\u001b[1;32m    230\u001b[0m \u001b[0;34m\u001b[0m\u001b[0m\n",
      "\u001b[0;32m~/Desktop/projects/Environments/my_env/lib/python3.7/site-packages/netmiko/base_connection.py\u001b[0m in \u001b[0;36m__init__\u001b[0;34m(self, ip, host, username, password, secret, port, device_type, verbose, global_delay_factor, use_keys, key_file, pkey, passphrase, allow_agent, ssh_strict, system_host_keys, alt_host_keys, alt_key_file, ssh_config_file, timeout, session_timeout, auth_timeout, blocking_timeout, keepalive, default_enter, response_return, serial_settings, fast_cli, session_log, session_log_record_writes, session_log_file_mode, allow_auto_change, encoding)\u001b[0m\n\u001b[1;32m    310\u001b[0m \u001b[0;34m\u001b[0m\u001b[0m\n\u001b[1;32m    311\u001b[0m             \u001b[0mself\u001b[0m\u001b[0;34m.\u001b[0m\u001b[0m_modify_connection_params\u001b[0m\u001b[0;34m(\u001b[0m\u001b[0;34m)\u001b[0m\u001b[0;34m\u001b[0m\u001b[0;34m\u001b[0m\u001b[0m\n\u001b[0;32m--> 312\u001b[0;31m             \u001b[0mself\u001b[0m\u001b[0;34m.\u001b[0m\u001b[0mestablish_connection\u001b[0m\u001b[0;34m(\u001b[0m\u001b[0;34m)\u001b[0m\u001b[0;34m\u001b[0m\u001b[0;34m\u001b[0m\u001b[0m\n\u001b[0m\u001b[1;32m    313\u001b[0m             \u001b[0mself\u001b[0m\u001b[0;34m.\u001b[0m\u001b[0m_try_session_preparation\u001b[0m\u001b[0;34m(\u001b[0m\u001b[0;34m)\u001b[0m\u001b[0;34m\u001b[0m\u001b[0;34m\u001b[0m\u001b[0m\n\u001b[1;32m    314\u001b[0m \u001b[0;34m\u001b[0m\u001b[0m\n",
      "\u001b[0;32m~/Desktop/projects/Environments/my_env/lib/python3.7/site-packages/netmiko/base_connection.py\u001b[0m in \u001b[0;36mestablish_connection\u001b[0;34m(self, width, height)\u001b[0m\n\u001b[1;32m    862\u001b[0m                     \u001b[0mdevice_type\u001b[0m\u001b[0;34m=\u001b[0m\u001b[0mself\u001b[0m\u001b[0;34m.\u001b[0m\u001b[0mdevice_type\u001b[0m\u001b[0;34m,\u001b[0m \u001b[0mip\u001b[0m\u001b[0;34m=\u001b[0m\u001b[0mself\u001b[0m\u001b[0;34m.\u001b[0m\u001b[0mhost\u001b[0m\u001b[0;34m,\u001b[0m \u001b[0mport\u001b[0m\u001b[0;34m=\u001b[0m\u001b[0mself\u001b[0m\u001b[0;34m.\u001b[0m\u001b[0mport\u001b[0m\u001b[0;34m\u001b[0m\u001b[0;34m\u001b[0m\u001b[0m\n\u001b[1;32m    863\u001b[0m                 )\n\u001b[0;32m--> 864\u001b[0;31m                 \u001b[0;32mraise\u001b[0m \u001b[0mNetMikoTimeoutException\u001b[0m\u001b[0;34m(\u001b[0m\u001b[0mmsg\u001b[0m\u001b[0;34m)\u001b[0m\u001b[0;34m\u001b[0m\u001b[0;34m\u001b[0m\u001b[0m\n\u001b[0m\u001b[1;32m    865\u001b[0m             \u001b[0;32mexcept\u001b[0m \u001b[0mparamiko\u001b[0m\u001b[0;34m.\u001b[0m\u001b[0mssh_exception\u001b[0m\u001b[0;34m.\u001b[0m\u001b[0mAuthenticationException\u001b[0m \u001b[0;32mas\u001b[0m \u001b[0mauth_err\u001b[0m\u001b[0;34m:\u001b[0m\u001b[0;34m\u001b[0m\u001b[0;34m\u001b[0m\u001b[0m\n\u001b[1;32m    866\u001b[0m                 \u001b[0mself\u001b[0m\u001b[0;34m.\u001b[0m\u001b[0mparamiko_cleanup\u001b[0m\u001b[0;34m(\u001b[0m\u001b[0;34m)\u001b[0m\u001b[0;34m\u001b[0m\u001b[0;34m\u001b[0m\u001b[0m\n",
      "\u001b[0;31mNetMikoTimeoutException\u001b[0m: Connection to device timed-out: cisco_ios 172.21.56.120:22"
     ]
    }
   ],
   "source": [
    "#!/usr/bin/env python\n",
    "from netmiko import Netmiko\n",
    "\n",
    "# SSH Connection Details\n",
    "ios1 = {\n",
    "    'device_type': 'cisco_ios',\n",
    "    'ip': '172.21.56.120',\n",
    "    'username': 'cisco',\n",
    "    'password': 'cisco',\n",
    "}\n",
    "\n",
    "# Establish SSH to device and run show command\n",
    "net_connect = Netmiko(**ios1)\n",
    "output = net_connect.send_command('show version')\n",
    "print (output)"
   ]
  },
  {
   "attachments": {},
   "cell_type": "markdown",
   "metadata": {},
   "source": [
    "### Task 3: Configuring a network device\n",
    "\n",
    "The python script will\n",
    "- login to the iosv-1 device via SSH\n",
    "- make a configuration change \"logging host 10.1.1.1\"\n",
    "- capture the output\n",
    "- print the command output to the screen.\n",
    "\n",
    "Notice we are reusing the same code, that we used in previous task. Only change is, instead of net_connect.send_command() we are using net_connect.send_config_set(). Rest of the script remains the same. Moving forward we will use the same logic, iterate the throught the code we have already written and add addtional logic on top of it to automate complex network tasks. "
   ]
  },
  {
   "cell_type": "code",
   "execution_count": 3,
   "metadata": {},
   "outputs": [
    {
     "name": "stdout",
     "output_type": "stream",
     "text": [
      "config term\n",
      "Enter configuration commands, one per line.  End with CNTL/Z.\n",
      "asr1(config)#logging host 1.1.1.1\n",
      "asr1(config)#end\n",
      "asr1#\n"
     ]
    }
   ],
   "source": [
    "#!/usr/bin/env python\n",
    "from netmiko import Netmiko\n",
    "\n",
    "# SSH Connection Details\n",
    "ios1 = {\n",
    "    'device_type': 'cisco_ios',\n",
    "    'ip': '172.21.56.120',\n",
    "    'username': 'cisco',\n",
    "    'password': 'cisco',\n",
    "}\n",
    "\n",
    "# Establish SSH to device and run config command\n",
    "net_connect = Netmiko(**ios1)\n",
    "output = net_connect.send_config_set('logging host 10.1.1.1')\n",
    "print (output)"
   ]
  },
  {
   "cell_type": "markdown",
   "metadata": {},
   "source": [
    "### Task 4: Configuring mutiple network devices\n",
    "\n",
    "The python script will\n",
    "- login to the iosv-1 and iosv-2 devices via SSH\n",
    "- make a configuration change \"logging host 10.1.1.2\"\n",
    "- capture the output\n",
    "- print the command output to the screen.\n",
    "\n",
    "To configure multiple devices, we have to create multiple SSH connection profiles and add it to a list. Then add a for loop to iterate through the connection profiles and make config changes to the IOS devices.\n",
    "\n",
    "```python\n",
    "device_list = [ios1, ios2]\n",
    "\n",
    "for device in device_list:\n",
    "    ** Netmiko config code block **\n",
    "```"
   ]
  },
  {
   "cell_type": "code",
   "execution_count": 5,
   "metadata": {},
   "outputs": [
    {
     "name": "stdout",
     "output_type": "stream",
     "text": [
      "config term\n",
      "Enter configuration commands, one per line.  End with CNTL/Z.\n",
      "asr1(config)#logging host 1.1.1.1\n",
      "asr1(config)#end\n",
      "asr1#\n",
      "config term\n",
      "Enter configuration commands, one per line.  End with CNTL/Z.\n",
      "asr2(config)#logging host 1.1.1.1\n",
      "asr2(config)#end\n",
      "asr2#\n"
     ]
    }
   ],
   "source": [
    "#!/usr/bin/env python\n",
    "from netmiko import Netmiko\n",
    "\n",
    "# SSH Connection Details\n",
    "ios1 = {\n",
    "    'device_type': 'cisco_ios',\n",
    "    'ip': '172.21.56.120',\n",
    "    'username': 'cisco',\n",
    "    'password': 'cisco',\n",
    "}\n",
    "\n",
    "ios2 = {\n",
    "    'device_type': 'cisco_ios',\n",
    "    'ip': '172.21.56.121',\n",
    "    'username': 'cisco',\n",
    "    'password': 'cisco',\n",
    "}\n",
    "\n",
    "devices = [ios1, ios2]\n",
    "\n",
    "for device in devices: \n",
    "    # Establish SSH to device and run config command\n",
    "    net_connect = Netmiko(**device)\n",
    "    output = net_connect.send_config_set('logging host 10.1.1.2')\n",
    "    print (output)"
   ]
  },
  {
   "cell_type": "markdown",
   "metadata": {},
   "source": [
    "### Task 5:  Pushing large configurations across multiple devices\n",
    "\n",
    "Now we have a solid understanding of how to write basic scripts. Next step is to make our code modular. For that we should remove all of the hardcoded variables from the script. The variable that are used in the script needs to be provided by either the user who runs the script or from a file.\n",
    "\n",
    "The python script will\n",
    "- Load the device ip details from a text file named 'device_list'\n",
    "- Load the configuration commands from a text file named 'config_commands'\n",
    "- Requests the login credentials from the user\n",
    "- Uses getpass() module to encrypt the user provided password\n",
    "- Login to each device in the 'device_list' and configure the commands given in 'config_commands' file.\n",
    "- Print the output\n",
    "\n",
    "\n",
    "First we use the input() and getpass() modules to collect the login credentials. Next, read the contents of the file using inbuilt python file module - with open(). After that we loop through the device_list and configure the devives. \n",
    "\n",
    "```python\n",
    "username = input()\n",
    "password = getpass()\n",
    "\n",
    "with open('file_name') as f:\n",
    "    device_list = f.read().splitlines()\n",
    "\n",
    "for devices in device_list:\n",
    "    ** Netmiko config code block **    \n",
    "```"
   ]
  },
  {
   "cell_type": "code",
   "execution_count": 7,
   "metadata": {},
   "outputs": [
    {
     "name": "stdout",
     "output_type": "stream",
     "text": [
      "Enter your SSH username: cisco\n",
      "Enter your password: ········\n",
      "Connecting to device 172.21.56.120\n",
      "config term\n",
      "Enter configuration commands, one per line.  End with CNTL/Z.\n",
      "asr1(config)#logging console\n",
      "asr1(config)#logging host 1.1.1.2\n",
      "asr1(config)#ntp server 1.1.1.3\n",
      "asr1(config)#ip name-server 1.1.1.4\n",
      "asr1(config)#no ip http server\n",
      "asr1(config)#no ip http secure-server\n",
      "asr1(config)#end\n",
      "asr1#\n",
      "Connecting to device 172.21.56.121\n",
      "config term\n",
      "Enter configuration commands, one per line.  End with CNTL/Z.\n",
      "asr2(config)#logging console\n",
      "asr2(config)#logging host 1.1.1.2\n",
      "asr2(config)#ntp server 1.1.1.3\n",
      "asr2(config)#ip name-server 1.1.1.4\n",
      "asr2(config)#no ip http server\n",
      "asr2(config)#no ip http secure-server\n",
      "asr2(config)#end\n",
      "asr2#\n"
     ]
    }
   ],
   "source": [
    "#!/usr/bin/env python\n",
    "from netmiko import Netmiko\n",
    "from getpass import getpass\n",
    "\n",
    "# SSH username and password provided by user\n",
    "username = input('Enter your SSH username: ')\n",
    "password = getpass('Enter your password: ')\n",
    "\n",
    "# Sending device ip's stored in a file \n",
    "with open('device_list') as f:\n",
    "    device_list = f.read().splitlines()\n",
    "\n",
    "# Iterate through device list and configure the devices \n",
    "for device in device_list:\n",
    "    print ('Connecting to device ' + device)\n",
    "    ip_address_of_device = device\n",
    "    \n",
    "    # SSH Connection details\n",
    "    ios_device = {\n",
    "        'device_type': 'cisco_ios',\n",
    "        'ip': ip_address_of_device, \n",
    "        'username': username,\n",
    "        'password': password\n",
    "    }\n",
    " \n",
    "    net_connect = Netmiko(**ios_device)\n",
    "    output = net_connect.send_config_from_file('config_commands')\n",
    "    print (output)        "
   ]
  },
  {
   "cell_type": "markdown",
   "metadata": {},
   "source": [
    "### Task 5:  Error handling and verification\n",
    "\n",
    "In this task we see show to enable error handling for our scripts. The idea behind error handling is to catch any exceptions that occurs during the execution of the script. Without error handling when an exception is detected the python script terminates and reports error.  \n",
    "\n",
    "\n",
    "\n",
    "Try and expect code blocks will help us to catch any errors during program execution. We have added diffrent exceptions that can be triggered during the exceution. For example: device timeout, reachability issues, wrong user credential errors, etc. If an exception is detected, the script will move on to next device and complete the task. \n",
    "\n",
    "```python\n",
    "username = input()\n",
    "password = getpass()\n",
    "\n",
    "with open('file_name') as f:\n",
    "    device_list = f.read().splitlines()\n",
    "\n",
    "for devices in device_list:\n",
    "    try:\n",
    "        ** Netmiko connection **\n",
    "    except:\n",
    "        ** Error condition **\n",
    "        continue\n",
    "    \n",
    "    ** Netmiko config code block **    \n",
    "```\n",
    "\n",
    "Test the exceptions, try providing wrong ip in device_list or wrong username and password to check whether the scripts catch and report the exceptions."
   ]
  },
  {
   "cell_type": "code",
   "execution_count": 8,
   "metadata": {
    "scrolled": true
   },
   "outputs": [
    {
     "name": "stdout",
     "output_type": "stream",
     "text": [
      "Enter your SSH username: sdf\n",
      "Enter your password: ········\n",
      "Connecting to device 172.21.56.120\n",
      "Authentication failure: 172.21.56.120\n",
      "Connecting to device 172.21.56.121\n",
      "Authentication failure: 172.21.56.121\n"
     ]
    }
   ],
   "source": [
    "#!/usr/bin/env python\n",
    "from getpass import getpass\n",
    "from netmiko import Netmiko\n",
    "from netmiko.ssh_exception import NetMikoTimeoutException\n",
    "from paramiko.ssh_exception import SSHException\n",
    "from netmiko.ssh_exception import AuthenticationException\n",
    "\n",
    "# Collect login credentials\n",
    "username = input('Enter your SSH username: ')\n",
    "password = getpass('Enter your password: ')\n",
    "\n",
    "# Sending device ip's stored in a file\n",
    "with open('device_list') as f:\n",
    "    device_list = f.read().splitlines()\n",
    "\n",
    "# Iterate through device list and configure the devices\n",
    "for devices in device_list:\n",
    "    print ('Connecting to device ' + devices)\n",
    "    ip_address_of_device = devices\n",
    "    ios_device = {\n",
    "        'device_type': 'cisco_ios',\n",
    "        'ip': ip_address_of_device,\n",
    "        'username': username,\n",
    "        'password': password\n",
    "    }\n",
    "    # Error handling parameters\n",
    "    try:\n",
    "        net_connect = Netmiko(**ios_device)\n",
    "    except (AuthenticationException):\n",
    "        print ('Authentication failure: ' + ip_address_of_device)\n",
    "        continue\n",
    "    except (NetMikoTimeoutException):\n",
    "        print ('Timeout to device: ' + ip_address_of_device)\n",
    "        continue\n",
    "    except (EOFError):\n",
    "        print (\"End of file while attempting device \" + ip_address_of_device)\n",
    "        continue\n",
    "    except (SSHException):\n",
    "        print ('SSH Issue. Are you sure SSH is enabled? ' + ip_address_of_device)\n",
    "        continue\n",
    "    except Exception as unknown_error:\n",
    "        print ('Some other error: ' + str(unknown_error))\n",
    "        continue\n",
    "\n",
    "    # Configure the device and save config\n",
    "    output = net_connect.send_config_from_file('config_commands')\n",
    "    output += net_connect.send_command('wr mem')\n",
    "    print (output)"
   ]
  },
  {
   "cell_type": "markdown",
   "metadata": {},
   "source": [
    "### Task 7: Building blocks of NAPALM python script\n",
    "\n",
    "In this exercise you will learn how a basic NAPALM python script is constructed. \n",
    "\n",
    "First we have to import the NAPALM connection drivers\n",
    "```python\n",
    "from napalm import get_network_driver\n",
    "```\n",
    "The connection parameters are provided to the network driver, which includes end device OS type, ip address and login credentials. \n",
    "\n",
    "```python\n",
    "driver = get_network_driver('ios')\n",
    "device = driver('172.21.56.121', 'cisco', 'cisco')\n",
    "```\n",
    "\n",
    "NAPALM will open the SSH connection using the connection paramenters\n",
    "\n",
    "```python\n",
    "device.open()\n",
    "```\n",
    "\n",
    "Once connection is established, NAPALM functions are called to perform various tasks.\n",
    "\n",
    "```python\n",
    "device.get_facts()\n",
    "```\n",
    "\n",
    "Close the SSH connection.\n",
    "\n",
    "```python\n",
    "device.close()\n",
    "```\n",
    "\n",
    "#### Primary functions of NAPALM\n",
    " \n",
    "- __load_merge_candidate:__ Populate the candidate config, either from file or text.\n",
    "- __load_replace_candidate:__ Similar to load_merge_candidate, but instead of a merge, the existing configuration will be entirely replaced with the content of the file, or the configuration loaded as text.\n",
    "- __compare_config:__ Return the difference between the running configuration and the candidate.\n",
    "- __discard_config:__ Discards the changes loaded into the candidate configuration.\n",
    "- __commit_config:__ Commit the changes loaded using load_merge_candidate or load_replace_candidate.\n",
    "- __rollback:__ Revert the running configuration to the previous state.\n",
    "\n",
    "#### Addtional get functions \n",
    "\n",
    "- __get_facts:__ collect facts and operational data from end devices (vendor, model, uptime, etc.)\n",
    "- __get_interfaces:__ speed, mac, enabled, description, etc.\n",
    "- __get_interfaces_counters:__ packets, octets, errors\n",
    "- __get_bgp_neighbors:__ AS, IP, received prefixes, accepted prefixes, etc.\n",
    "- __get_environment:__ fan, temp, power, cpu, mem\n",
    "- __get_lldp_neighbors:__ hostname, port\n",
    "\n",
    "Note: NAPALM requires some prerequisites for properly interacting with the cisco devices. For more information, pls refer the documentation:\n",
    "https://napalm.readthedocs.io/en/latest/support/ios.html\n"
   ]
  },
  {
   "attachments": {},
   "cell_type": "markdown",
   "metadata": {},
   "source": [
    "### Task 8: Collecting facts from network devices\n",
    "\n",
    "The python script will\n",
    "- login to the iosv-1 device via SSH\n",
    "- run the show version command\n",
    "- capture the output"
   ]
  },
  {
   "cell_type": "code",
   "execution_count": null,
   "metadata": {},
   "outputs": [],
   "source": [
    "#!/usr/bin/env python\n",
    "\n",
    "from napalm import get_network_driver\n",
    "\n",
    "driver = get_network_driver('ios')\n",
    "device = driver('172.21.56.121', 'cisco', 'cisco')\n",
    "\n",
    "device.open()\n",
    "print('Napalm Is Running........\\n')\n",
    "facts = device.get_facts()\n",
    "print(facts)\n",
    "device.close()"
   ]
  },
  {
   "cell_type": "markdown",
   "metadata": {},
   "source": [
    "#### By default napalm get_facts will provide a strcutred data output in dictionary format. To make it more readable we can use pprint module"
   ]
  },
  {
   "cell_type": "code",
   "execution_count": null,
   "metadata": {},
   "outputs": [],
   "source": [
    "#!/usr/bin/env python\n",
    "import pprint\n",
    "from napalm import get_network_driver\n",
    "\n",
    "driver = get_network_driver('ios')\n",
    "device = driver('172.21.56.121', 'cisco', 'cisco')\n",
    "\n",
    "device.open()\n",
    "print('Napalm Is Running........\\n')\n",
    "facts = device.get_facts()\n",
    "\n",
    "pp = pprint.PrettyPrinter(indent=4)\n",
    "pp.pprint(facts)\n",
    "device.close()"
   ]
  },
  {
   "cell_type": "markdown",
   "metadata": {},
   "source": [
    "#### Use get_facts info to build a report "
   ]
  },
  {
   "cell_type": "code",
   "execution_count": null,
   "metadata": {},
   "outputs": [],
   "source": [
    "#!/usr/bin/env python\n",
    "import pprint\n",
    "from napalm import get_network_driver\n",
    "from prettytable import PrettyTable\n",
    "\n",
    "device_ip = ['172.21.56.121', '172.21.56.122']\n",
    "# Using prettytable to print a sample report\n",
    "report = PrettyTable(['Hostname', 'Vendor', 'Model', 'Serial No.'])\n",
    "\n",
    "for ip in device_ip:\n",
    "    driver = get_network_driver('ios')\n",
    "    device = driver(ip, 'cisco', 'cisco')\n",
    "    device.open()\n",
    "    print('Napalm Is Running on ' + ip + '........\\n')\n",
    "    facts = device.get_facts()\n",
    "    report.add_row([facts['hostname'], facts['vendor'], facts['model'], facts['serial_number']])\n",
    "    device.close()\n",
    "print (report)  "
   ]
  },
  {
   "cell_type": "markdown",
   "metadata": {},
   "source": [
    "### Task 8: Configuring a network device with merge option\n",
    "\n",
    "The python script will\n",
    "- login to the iosv-1 device via SSH\n",
    "- run the show version command\n",
    "- capture the output"
   ]
  },
  {
   "cell_type": "code",
   "execution_count": null,
   "metadata": {},
   "outputs": [],
   "source": [
    "!cat new_loopback.cfg"
   ]
  },
  {
   "cell_type": "markdown",
   "metadata": {},
   "source": [
    "#### rLoad the new config file using 'load_merge_candidate()' and use 'compare_config()' to compare it with the running config to check what changes are required and print the diffs"
   ]
  },
  {
   "cell_type": "code",
   "execution_count": null,
   "metadata": {},
   "outputs": [],
   "source": [
    "#!/usr/bin/env python\n",
    "import pprint\n",
    "from napalm import get_network_driver\n",
    "\n",
    "driver = get_network_driver('ios')\n",
    "device = driver('172.21.56.121', 'cisco', 'cisco')\n",
    "\n",
    "device.open()\n",
    "print('Napalm Is Running........\\n')\n",
    "device.load_merge_candidate(filename='new_loopback.cfg')\n",
    "diffs = device.compare_config()\n",
    "\n",
    "if len(diffs) > 0:\n",
    "    print(diffs)\n",
    "else:\n",
    "    print('No changes needed')\n",
    "    "
   ]
  },
  {
   "cell_type": "markdown",
   "metadata": {},
   "source": [
    "#### Step 4: If in case something went worng after commiting the change and we want to rollback the change, we can use 'rollback()' to remove previously commited config changes"
   ]
  },
  {
   "cell_type": "code",
   "execution_count": null,
   "metadata": {},
   "outputs": [],
   "source": [
    "#!/usr/bin/env python\n",
    "import pprint\n",
    "from napalm import get_network_driver\n",
    "\n",
    "driver = get_network_driver('ios')\n",
    "device = driver('172.21.56.121', 'cisco', 'cisco')\n",
    "device.open()\n",
    "print('Napalm Is Running........\\n')\n",
    "\n",
    "device.rollback()\n",
    "\n",
    "pp = pprint.PrettyPrinter(indent=4)\n",
    "\n",
    "facts = device.get_facts()\n",
    "# print interface list\n",
    "\n",
    "pp.pprint(facts['interface_list'])\n",
    "\n",
    "device.close()"
   ]
  },
  {
   "cell_type": "markdown",
   "metadata": {},
   "source": [
    "#### Step 4: Use the load_replace_candidate() feature to reset the lab devices to default config."
   ]
  },
  {
   "cell_type": "code",
   "execution_count": null,
   "metadata": {},
   "outputs": [],
   "source": [
    "#!/usr/bin/env python\n",
    "import pprint\n",
    "from napalm import get_network_driver\n",
    "\n",
    "driver = get_network_driver('ios')\n",
    "device = driver('172.21.56.123', 'cisco', 'cisco')\n",
    "device.open()\n",
    "print('Napalm Is Running........\\n')\n",
    "\n",
    "device.load_replace_candidate(filename='default.cfg')\n",
    "diffs = device.compare_config()\n",
    "\n",
    "if len(diffs) > 0:\n",
    "    print(diffs)\n",
    "    commit = input('Commit changes? <y or n>:')\n",
    "    if commit == 'y':\n",
    "        print('Commiting changes...')\n",
    "        device.commit_config()\n",
    "        print('Done')\n",
    "    else:\n",
    "        print('No changes needed')\n",
    "        device.discard_config()\n",
    "device.close() "
   ]
  },
  {
   "cell_type": "code",
   "execution_count": null,
   "metadata": {},
   "outputs": [],
   "source": []
  }
 ],
 "metadata": {
  "kernelspec": {
   "display_name": "Python 3",
   "language": "python",
   "name": "python3"
  },
  "language_info": {
   "codemirror_mode": {
    "name": "ipython",
    "version": 3
   },
   "file_extension": ".py",
   "mimetype": "text/x-python",
   "name": "python",
   "nbconvert_exporter": "python",
   "pygments_lexer": "ipython3",
   "version": "3.7.2"
  }
 },
 "nbformat": 4,
 "nbformat_minor": 2
}
